{
 "cells": [
  {
   "cell_type": "code",
   "execution_count": null,
   "id": "7b39b33e-89fb-4742-b4c4-69b6635949d7",
   "metadata": {},
   "outputs": [],
   "source": []
  }
 ],
 "metadata": {
  "kernelspec": {
   "display_name": "",
   "name": ""
  },
  "language_info": {
   "name": ""
  }
 },
 "nbformat": 4,
 "nbformat_minor": 5
}
